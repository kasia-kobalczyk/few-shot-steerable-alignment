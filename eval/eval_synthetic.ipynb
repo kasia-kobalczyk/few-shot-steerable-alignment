{
 "cells": [
  {
   "cell_type": "code",
   "execution_count": 9,
   "metadata": {},
   "outputs": [
    {
     "name": "stdout",
     "output_type": "stream",
     "text": [
      "The autoreload extension is already loaded. To reload it, use:\n",
      "  %reload_ext autoreload\n",
      "../saves/reward-models-synthetic/synthetic-btl_0\n",
      "../saves/reward-models-synthetic/synthetic-dpl_0\n",
      "../saves/reward-models-synthetic/synthetic-nppl_0\n"
     ]
    },
    {
     "name": "stderr",
     "output_type": "stream",
     "text": [
      "/mnt/pdata/knk25/cPL/eval/../eval/utils.py:17: FutureWarning: You are using `torch.load` with `weights_only=False` (the current default value), which uses the default pickle module implicitly. It is possible to construct malicious pickle data which will execute arbitrary code during unpickling (See https://github.com/pytorch/pytorch/blob/main/SECURITY.md#untrusted-models for more details). In a future release, the default value for `weights_only` will be flipped to `True`. This limits the functions that could be executed during unpickling. Arbitrary objects will no longer be allowed to be loaded via this mode unless they are explicitly allowlisted by the user via `torch.serialization.add_safe_globals`. We recommend you start setting `weights_only=True` for any use case where you don't have full control of the loaded file. Please open an issue on GitHub for any issues related to this experimental feature.\n",
      "  state_dict = torch.load(f'{save_dir}/model_{load_it}.pt', map_location=device)\n"
     ]
    }
   ],
   "source": [
    "# autoreload\n",
    "%load_ext autoreload\n",
    "%autoreload 2\n",
    "import os\n",
    "import sys\n",
    "sys.path.append('../')\n",
    "from data.utils import setup_dataloaders, collect_pairs_choices\n",
    "from eval.utils import load_model\n",
    "import torch\n",
    "import matplotlib.pyplot as plt\n",
    "import numpy as np\n",
    "import scienceplots\n",
    "import seaborn as sns\n",
    "\n",
    "sns.set_style('whitegrid')\n",
    "plt.style.use('science')\n",
    "\n",
    "device='cuda:0'\n",
    "\n",
    "# Load the models\n",
    "save_dict = {\n",
    "    'btl' : '../saves/reward-models-synthetic/synthetic-btl_0',\n",
    "    'dpl' : '../saves/reward-models-synthetic/synthetic-dpl_0',\n",
    "    'nppl' : '../saves/reward-models-synthetic/synthetic-nppl_0',\n",
    "}\n",
    "\n",
    "models = {}\n",
    "for k, v in save_dict.items():\n",
    "    model, cfg = load_model(v, load_it='best')\n",
    "    models[k] = model"
   ]
  },
  {
   "cell_type": "code",
   "execution_count": 10,
   "metadata": {},
   "outputs": [
    {
     "name": "stdout",
     "output_type": "stream",
     "text": [
      "Evaluting model: btl\n"
     ]
    },
    {
     "name": "stderr",
     "output_type": "stream",
     "text": [
      "  0%|          | 0/30 [00:00<?, ?it/s]"
     ]
    },
    {
     "name": "stderr",
     "output_type": "stream",
     "text": [
      "100%|██████████| 30/30 [00:02<00:00, 13.87it/s]\n"
     ]
    },
    {
     "name": "stdout",
     "output_type": "stream",
     "text": [
      "Evaluting model: dpl\n"
     ]
    },
    {
     "name": "stderr",
     "output_type": "stream",
     "text": [
      "100%|██████████| 30/30 [00:02<00:00, 13.26it/s]\n"
     ]
    },
    {
     "name": "stdout",
     "output_type": "stream",
     "text": [
      "Evaluting model: nppl\n"
     ]
    },
    {
     "name": "stderr",
     "output_type": "stream",
     "text": [
      "100%|██████████| 30/30 [00:04<00:00,  7.48it/s]\n"
     ]
    }
   ],
   "source": [
    "from tqdm import tqdm\n",
    "\n",
    "test_data_loader = setup_dataloaders(cfg.data, splits=['test'])['test']\n",
    "\n",
    "num_context_ls = [0, 1, 3, 5, 10]\n",
    "\n",
    "eval_dict = {}\n",
    "\n",
    "for model_name, model in models.items():\n",
    "    eval_dict[model_name] = {}\n",
    "    for metric in ['accuracy', 'unseen_accuracy', 'label']:\n",
    "        eval_dict[model_name][metric] = {}\n",
    "        for num_context in num_context_ls:\n",
    "            eval_dict[model_name][metric][num_context] = []\n",
    "\n",
    "for model_name, model in models.items():\n",
    "    print('Evaluting model:', model_name)\n",
    "    for i, batch in enumerate(tqdm(test_data_loader)):\n",
    "        for num_context in num_context_ls:\n",
    "            \n",
    "            pairs_C, choices_C, pairs_T, choices_T = collect_pairs_choices(\n",
    "                batch, \n",
    "                num_context=num_context,\n",
    "                min_num_context=cfg.data.min_num_context,\n",
    "                max_num_context=cfg.data.max_num_context,\n",
    "                num_targets=cfg.data.num_targets,\n",
    "                context_datatype=cfg.data.context_datatype\n",
    "            )  \n",
    "\n",
    "            pairs_T = pairs_T.to(device)\n",
    "            choices_T = choices_T.to(device)\n",
    "            pairs_C = pairs_C.to(device)\n",
    "            choices_C = choices_C.to(device) \n",
    "\n",
    "            with torch.no_grad():\n",
    "                outputs = model(pairs_T, choices_T, pairs_C, choices_C)\n",
    "            \n",
    "            predictions = outputs['logp_choices'].argmax(dim=-1).unsqueeze(-1)\n",
    "            choices = choices_T.unsqueeze(0).expand(predictions.shape[0], -1, -1, -1)\n",
    "            acc = (predictions == choices).float().mean(axis=0)\n",
    "\n",
    "            bs = cfg.data.batch_size\n",
    "            num_targets = cfg.data.num_targets\n",
    "\n",
    "            unseen_predictions = torch.zeros(\n",
    "                (predictions.shape[0], bs, num_targets - num_context, 1)\n",
    "            )\n",
    "            unseen_choices = torch.zeros(\n",
    "                (predictions.shape[0], bs, num_targets - num_context, 1)\n",
    "            )\n",
    "\n",
    "            for i in range(bs):\n",
    "                idx = torch.tensor(list(range(num_context, num_targets)))\n",
    "                unseen_predictions[:, i, :, :] = predictions[:, i, idx, :]\n",
    "                unseen_choices[:, i, :, :] = choices[:, i, idx, :]\n",
    "\n",
    "            unseen_acc = (unseen_predictions == unseen_choices).float().mean(axis=0)\n",
    "        \n",
    "            eval_dict[model_name]['accuracy'][num_context].append(acc)\n",
    "            eval_dict[model_name]['unseen_accuracy'][num_context].append(unseen_acc)\n",
    "            eval_dict[model_name]['label'][num_context].append(batch['labels_T'])"
   ]
  },
  {
   "cell_type": "code",
   "execution_count": 11,
   "metadata": {},
   "outputs": [
    {
     "data": {
      "text/html": [
       "<div>\n",
       "<style scoped>\n",
       "    .dataframe tbody tr th:only-of-type {\n",
       "        vertical-align: middle;\n",
       "    }\n",
       "\n",
       "    .dataframe tbody tr th {\n",
       "        vertical-align: top;\n",
       "    }\n",
       "\n",
       "    .dataframe thead th {\n",
       "        text-align: right;\n",
       "    }\n",
       "</style>\n",
       "<table border=\"1\" class=\"dataframe\">\n",
       "  <thead>\n",
       "    <tr style=\"text-align: right;\">\n",
       "      <th>model</th>\n",
       "      <th>btl</th>\n",
       "      <th>dpl</th>\n",
       "      <th>nppl</th>\n",
       "    </tr>\n",
       "    <tr>\n",
       "      <th>num_context</th>\n",
       "      <th></th>\n",
       "      <th></th>\n",
       "      <th></th>\n",
       "    </tr>\n",
       "  </thead>\n",
       "  <tbody>\n",
       "    <tr>\n",
       "      <th>0</th>\n",
       "      <td>76.4 ± 0.2</td>\n",
       "      <td>76.3 ± 0.3</td>\n",
       "      <td>76.4 ± 0.2</td>\n",
       "    </tr>\n",
       "    <tr>\n",
       "      <th>1</th>\n",
       "      <td>76.4 ± 0.2</td>\n",
       "      <td>76.3 ± 0.3</td>\n",
       "      <td>86.6 ± 0.3</td>\n",
       "    </tr>\n",
       "    <tr>\n",
       "      <th>3</th>\n",
       "      <td>76.4 ± 0.2</td>\n",
       "      <td>76.3 ± 0.3</td>\n",
       "      <td>94.7 ± 0.2</td>\n",
       "    </tr>\n",
       "    <tr>\n",
       "      <th>5</th>\n",
       "      <td>76.4 ± 0.2</td>\n",
       "      <td>76.3 ± 0.3</td>\n",
       "      <td>97.4 ± 0.1</td>\n",
       "    </tr>\n",
       "    <tr>\n",
       "      <th>10</th>\n",
       "      <td>76.4 ± 0.2</td>\n",
       "      <td>76.3 ± 0.3</td>\n",
       "      <td>98.9 ± 0.1</td>\n",
       "    </tr>\n",
       "  </tbody>\n",
       "</table>\n",
       "</div>"
      ],
      "text/plain": [
       "model               btl         dpl        nppl\n",
       "num_context                                    \n",
       "0            76.4 ± 0.2  76.3 ± 0.3  76.4 ± 0.2\n",
       "1            76.4 ± 0.2  76.3 ± 0.3  86.6 ± 0.3\n",
       "3            76.4 ± 0.2  76.3 ± 0.3  94.7 ± 0.2\n",
       "5            76.4 ± 0.2  76.3 ± 0.3  97.4 ± 0.1\n",
       "10           76.4 ± 0.2  76.3 ± 0.3  98.9 ± 0.1"
      ]
     },
     "execution_count": 11,
     "metadata": {},
     "output_type": "execute_result"
    }
   ],
   "source": [
    "import pandas as pd\n",
    "num_context = 0\n",
    "\n",
    "def get_res_df(eval_dict, acc_type=\"accuracy\"):\n",
    "    acc_dict = eval_dict[acc_type]\n",
    "    labels_dict = eval_dict['label']\n",
    "    res_df = pd.DataFrame()\n",
    "    for num_context in num_context_ls:\n",
    "        mean_acc = torch.stack(acc_dict[num_context]).squeeze(-1).mean(dim=-1).cpu().numpy()\n",
    "        labels = [z for zs in labels_dict[num_context] for z in zs]\n",
    "        try:\n",
    "            res = pd.DataFrame({\n",
    "                'acc' : mean_acc.flatten() * 100,\n",
    "                'labels' : labels,\n",
    "                'num_context' : num_context\n",
    "            })\n",
    "        except(ValueError):\n",
    "            res = pd.DataFrame()\n",
    "            print(acc_type, num_context)\n",
    "        res_df = pd.concat([res_df, res])\n",
    "\n",
    "    return res_df\n",
    "\n",
    "res_df = pd.DataFrame()\n",
    "\n",
    "for model_name in models.keys():\n",
    "    res_df_model = get_res_df(eval_dict[model_name], acc_type=\"unseen_accuracy\" if 'nppl' in model_name else \"accuracy\")\n",
    "    res_df_model['model'] = model_name\n",
    "    res_df = pd.concat([res_df, res_df_model])\n",
    "\n",
    "summary_df = res_df.groupby(['model', 'num_context'])['acc'].agg(['mean', 'sem']) \n",
    "summary_df['acc'] = summary_df.apply(lambda x: f'{x['mean']:.1f} ± {x['sem']:.1f}', axis=1)\n",
    "summary_df.reset_index().pivot(index='num_context', columns=['model'], values='acc')"
   ]
  },
  {
   "cell_type": "code",
   "execution_count": 12,
   "metadata": {},
   "outputs": [],
   "source": [
    "from data.gen_synthetic_data import get_choices, get_reward\n",
    "\n",
    "n_context = 10\n",
    "n = 50\n",
    "\n",
    "options_a = torch.linspace(0, 1, n)\n",
    "options_b = torch.linspace(0, 1, n)\n",
    "\n",
    "options_a, options_b = torch.meshgrid(options_a, options_b)\n",
    "options_a = options_a.flatten().view(1, -1, 1)\n",
    "options_b = options_b.flatten().view(1,-1, 1)\n",
    "\n",
    "pairs_T = torch.cat([options_a, options_b], dim=-1).unsqueeze(-1).to(device)\n",
    "\n",
    "choices_0_T = torch.tensor(get_choices(get_reward(options_a, z=0), get_reward(options_b, z=0))).to(device)\n",
    "choices_1_T = torch.tensor(get_choices(get_reward(options_a, z=1), get_reward(options_b, z=1))).to(device)\n",
    "\n",
    "context_idx = np.random.choice(n**2, n_context)\n",
    "pairs_C = pairs_T[:, context_idx]\n",
    "choices_0_C = choices_0_T[:, context_idx]\n",
    "choices_1_C = choices_1_T[:, context_idx]\n",
    "\n",
    "outputs = dict(zip(models.keys(), [None]*len(models)))\n",
    "\n",
    "with torch.no_grad():\n",
    "    for model_name, model in models.items():\n",
    "        outputs[model_name] = {}\n",
    "        outputs[model_name]['0'] = model(pairs_T, choices_0_T, pairs_C, choices_0_C)\n",
    "        outputs[model_name]['1'] = model(pairs_T, choices_1_T, pairs_C, choices_1_C)"
   ]
  },
  {
   "cell_type": "code",
   "execution_count": 13,
   "metadata": {},
   "outputs": [
    {
     "data": {
      "image/png": "[encoded data removed]",
      "text/plain": [
       "<Figure size 700x200 with 3 Axes>"
      ]
     },
     "metadata": {},
     "output_type": "display_data"
    }
   ],
   "source": [
    "options = options_b.flatten().cpu().numpy()[:50]\n",
    "\n",
    "fig, axs = plt.subplots(1, 3, figsize=(7, 2), sharex=True, sharey=True)\n",
    "\n",
    "# BTL\n",
    "rewards =  outputs['btl']['0']['rewards'][:, :, :, 1].flatten().cpu().numpy()[:50]\n",
    "axs[0].plot(options, rewards, label='z=0', color='black')\n",
    "axs[0].set_title('BTL')\n",
    "\n",
    "# DPL\n",
    "rewards =  outputs['dpl']['0']['rewards'][:, :, :, 1].view(-1, 2).cpu().numpy()\n",
    "mean, std = rewards[:50, 0], rewards[:50, 1]\n",
    "axs[1].plot(options, mean, color='black')\n",
    "axs[1].fill_between(options, mean-std, mean+std, alpha=0.2, color='black')\n",
    "axs[1].set_title('DPL')\n",
    "\n",
    "# NPPL\n",
    "rewards0 =  outputs['nppl']['0']['rewards'][:, :, :, 1].flatten().cpu().numpy()[:50]\n",
    "rewards1 =  outputs['nppl']['1']['rewards'][:, :, :, 1].flatten().cpu().numpy()[:50]\n",
    "axs[2].plot(options, rewards0, label='$z^*=0$')\n",
    "axs[2].plot(options, rewards1, label='$z^*=1$')\n",
    "axs[2].set_title(r'NP-BTL \\small{(10 contexts)}')\n",
    "axs[2].legend()\n",
    "\n",
    "plt.tight_layout()\n",
    "plt.subplots_adjust(wspace=0.3)\n",
    "plt.show()"
   ]
  }
 ],
 "metadata": {
  "kernelspec": {
   "display_name": "llms",
   "language": "python",
   "name": "python3"
  },
  "language_info": {
   "codemirror_mode": {
    "name": "ipython",
    "version": 3
   },
   "file_extension": ".py",
   "mimetype": "text/x-python",
   "name": "python",
   "nbconvert_exporter": "python",
   "pygments_lexer": "ipython3",
   "version": "3.12.5"
  }
 },
 "nbformat": 4,
 "nbformat_minor": 2
}
